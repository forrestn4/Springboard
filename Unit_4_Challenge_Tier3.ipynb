{
 "cells": [
  {
   "cell_type": "markdown",
   "metadata": {
    "colab_type": "text",
    "id": "Tia3MP1SJpgj"
   },
   "source": [
    "# Springboard Data Science Career Track Unit 4 Challenge - Tier 3 Complete\n",
    "\n",
    "## 0.1 Introduction\n",
    "Hey! Great job getting through those challenging DataCamp courses. You're learning a lot in a short span of time. \n",
    "\n",
    "In this notebook, you're going to apply the skills you've been learning, bridging the gap between the controlled environment of DataCamp and the *slightly* messier work that data scientists do with actual datasets!\n",
    "\n",
    "Here’s the mystery we’re going to solve: ***which boroughs of London have seen the greatest increase in housing prices, on average, over the last two decades?***\n",
    "\n",
    "\n",
    "A borough is just a fancy word for district. You may be familiar with the five boroughs of New York… well, there are 32 boroughs within Greater London [(here's some info for the curious)](https://en.wikipedia.org/wiki/London_boroughs). Some of them are more desirable areas to live in, and the data will reflect that with a greater rise in housing prices.\n",
    "\n",
    "***This is the Tier 3 notebook, which means it's not filled in at all: we'll just give you the skeleton of a project, the brief and the data. It's up to you to play around with it and see what you can find out! Good luck! If you struggle, feel free to look at easier tiers for help; but try to dip in and out of them, as the more independent work you do, the better it is for your learning!***\n",
    "\n",
    "This challenge will make use of only what you learned in the following DataCamp courses: \n",
    "- Prework courses (Introduction to Python for Data Science, Intermediate Python for Data Science)\n",
    "- Data Types for Data Science\n",
    "- Python Data Science Toolbox (Part One) \n",
    "- pandas Foundations\n",
    "- Manipulating DataFrames with pandas\n",
    "- Merging DataFrames with pandas\n",
    "\n",
    "Of the tools, techniques and concepts in the above DataCamp courses, this challenge should require the application of the following: \n",
    "- **pandas**\n",
    "    - **data ingestion and inspection** (pandas Foundations, Module One) \n",
    "    - **exploratory data analysis** (pandas Foundations, Module Two)\n",
    "    - **tidying and cleaning** (Manipulating DataFrames with pandas, Module Three) \n",
    "    - **transforming DataFrames** (Manipulating DataFrames with pandas, Module One)\n",
    "    - **subsetting DataFrames with lists** (Manipulating DataFrames with pandas, Module One) \n",
    "    - **filtering DataFrames** (Manipulating DataFrames with pandas, Module One) \n",
    "    - **grouping data** (Manipulating DataFrames with pandas, Module Four) \n",
    "    - **melting data** (Manipulating DataFrames with pandas, Module Three) \n",
    "    - **advanced indexing** (Manipulating DataFrames with pandas, Module Four) \n",
    "- **matplotlib** (Intermediate Python for Data Science, Module One)\n",
    "- **fundamental data types** (Data Types for Data Science, Module One) \n",
    "- **dictionaries** (Intermediate Python for Data Science, Module Two)\n",
    "- **handling dates and times** (Data Types for Data Science, Module Four)\n",
    "- **function definition** (Python Data Science Toolbox - Part One, Module One)\n",
    "- **default arguments, variable length, and scope** (Python Data Science Toolbox - Part One, Module Two) \n",
    "- **lambda functions and error handling** (Python Data Science Toolbox - Part One, Module Four) "
   ]
  },
  {
   "cell_type": "markdown",
   "metadata": {},
   "source": [
    "### 0.2 Research question\n",
    "\n",
    "***Which boroughs of London have seen the greatest increase in housing prices, on average, over the last two decades?***\n",
    "\n",
    "\n",
    "\n",
    "### 0.3 About the dataset\n",
    "Data source: https://data.london.gov.uk/dataset/uk-house-price-index\n",
    "\n",
    "Detailed notes:\n",
    "https://www.gov.uk/government/publications/about-the-uk-house-price-index/about-the-uk-house-price-index\n",
    "\n",
    "The UK House Price Index (HPI) captures the change in the value of residential properties\n",
    "It appears that they use data on transacted properties and apply hedonic regresssion and mix-adjustment techniques to account for heterogeneity in housing stock composition, then calculate an average housing price.\n",
    "\n",
    "For the UK HPI, standard average hoouse price is calculated by taking Jan 2015 geometric mean and recalculating it in accordance with the index change back in time, and also forward to the present day.\n",
    "\n",
    "A 3 month moving average is applied to estimates below the regional level.\n",
    "\n",
    "In the 'Average Price' sheet there are monthly reportings spanning Jan 1995 - March 2021\n",
    "\n",
    "\n",
    "### 0.4 Approach\n",
    "\n",
    "1. Review the data quality and conduct any cleaning that is necessary\n",
    "2. Create yearly average prices for each Borough\n",
    "3. Calculate the difference between years 2000 and 2020, and determine which Borough saw the largest increase\n",
    "\n",
    "\n"
   ]
  },
  {
   "cell_type": "markdown",
   "metadata": {
    "colab_type": "text",
    "id": "Ipgd2nV8Jpgl"
   },
   "source": [
    "## The Data Science Pipeline\n",
    "\n",
    "This is Tier Three, so we'll get you started. But after that, it's all in your hands! When you feel done with your investigations, look back over what you've accomplished, and prepare a quick presentation of your findings for the next mentor meeting. \n",
    "\n",
    "Data Science is magical. In this case study, you'll get to apply some complex machine learning algorithms. But as  [David Spiegelhalter](https://www.youtube.com/watch?v=oUs1uvsz0Ok) reminds us, there is no substitute for simply **taking a really, really good look at the data.** Sometimes, this is all we need to answer our question.\n",
    "\n",
    "Data Science projects generally adhere to the four stages of Data Science Pipeline:\n",
    "1. Sourcing and loading \n",
    "2. Cleaning, transforming, and visualizing \n",
    "3. Modeling \n",
    "4. Evaluating and concluding \n"
   ]
  },
  {
   "cell_type": "markdown",
   "metadata": {
    "colab_type": "text",
    "id": "zswDqbefJpgm"
   },
   "source": [
    "### 1. Sourcing and Loading \n",
    "\n",
    "Any Data Science project kicks off by importing  ***pandas***. The documentation of this wonderful library can be found [here](https://pandas.pydata.org/). As you've seen, pandas is conveniently connected to the [Numpy](http://www.numpy.org/) and [Matplotlib](https://matplotlib.org/) libraries. \n",
    "\n",
    "***Hint:*** This part of the data science pipeline will test those skills you acquired in the pandas Foundations course, Module One. "
   ]
  },
  {
   "cell_type": "markdown",
   "metadata": {
    "colab_type": "text",
    "id": "aEau5nEvJpgm"
   },
   "source": [
    "#### 1.1. Importing Libraries"
   ]
  },
  {
   "cell_type": "code",
   "execution_count": 1,
   "metadata": {
    "colab": {},
    "colab_type": "code",
    "id": "7Bt_Q_oPJpgn"
   },
   "outputs": [],
   "source": [
    "# Let's import the pandas, numpy libraries as pd, and np respectively. \n",
    "import pandas as pd\n",
    "import numpy as np\n",
    "\n",
    "# Load the pyplot collection of functions from matplotlib, as plt \n",
    "import matplotlib.pyplot as plt # Visualization"
   ]
  },
  {
   "cell_type": "markdown",
   "metadata": {
    "colab_type": "text",
    "id": "koUrawxsJpgq"
   },
   "source": [
    "#### 1.2.  Loading the data\n",
    "Your data comes from the [London Datastore](https://data.london.gov.uk/): a free, open-source data-sharing portal for London-oriented datasets. "
   ]
  },
  {
   "cell_type": "code",
   "execution_count": 65,
   "metadata": {
    "colab": {},
    "colab_type": "code",
    "id": "AiLiD4v3Jpgr"
   },
   "outputs": [],
   "source": [
    "# First, make a variable called url_LondonHousePrices, and assign it the following link, enclosed in quotation-marks as a string:\n",
    "# https://data.london.gov.uk/download/uk-house-price-index/70ac0766-8902-4eb5-aab5-01951aaed773/UK%20House%20price%20index.xls\n",
    "\n",
    "url_LondonHousePrices = \"https://data.london.gov.uk/download/uk-house-price-index/70ac0766-8902-4eb5-aab5-01951aaed773/UK%20House%20price%20index.xls\"\n",
    "\n",
    "# The dataset we're interested in contains the Average prices of the houses, \n",
    "# and is actually on a particular sheet of the Excel file. \n",
    "# As a result, we need to specify the sheet name in the read_excel() method.\n",
    "# Put this data into a variable called properties.  \n",
    "properties = pd.read_excel(url_LondonHousePrices, sheet_name='Average price', index_col= None)"
   ]
  },
  {
   "cell_type": "markdown",
   "metadata": {
    "colab_type": "text",
    "id": "POukEJXgJpgu"
   },
   "source": [
    "### 2. Cleaning, transforming, and visualizing\n",
    "This second stage is arguably the most important part of any Data Science project. The first thing to do is take a proper look at the data. Cleaning forms the majority of this stage, and can be done both before or after Transformation.\n",
    "\n",
    "The end goal of data cleaning is to have tidy data. When data is tidy: \n",
    "\n",
    "1. Each variable has a column.\n",
    "2. Each observation forms a row.\n",
    "\n",
    "Keep the end goal in mind as you move through this process, every step will take you closer. \n",
    "\n",
    "\n",
    "\n",
    "***Hint:*** This part of the data science pipeline should test those skills you acquired in: \n",
    "- Intermediate Python for data science, all modules.\n",
    "- pandas Foundations, all modules. \n",
    "- Manipulating DataFrames with pandas, all modules.\n",
    "- Data Types for Data Science, Module Four.\n",
    "- Python Data Science Toolbox - Part One, all modules"
   ]
  },
  {
   "cell_type": "markdown",
   "metadata": {
    "colab_type": "text",
    "id": "Te0Q548tnzZa"
   },
   "source": [
    "**2.1. Exploring your data** \n",
    "\n",
    "Think about your pandas functions for checking out a dataframe. "
   ]
  },
  {
   "cell_type": "code",
   "execution_count": 66,
   "metadata": {
    "colab": {},
    "colab_type": "code",
    "id": "Rxirxw_qoAJa"
   },
   "outputs": [
    {
     "name": "stdout",
     "output_type": "stream",
     "text": [
      "<class 'pandas.core.frame.DataFrame'>\n",
      "RangeIndex: 316 entries, 0 to 315\n",
      "Data columns (total 49 columns):\n",
      " #   Column                Non-Null Count  Dtype         \n",
      "---  ------                --------------  -----         \n",
      " 0   Unnamed: 0            315 non-null    datetime64[ns]\n",
      " 1   City of London        316 non-null    object        \n",
      " 2   Barking & Dagenham    316 non-null    object        \n",
      " 3   Barnet                316 non-null    object        \n",
      " 4   Bexley                316 non-null    object        \n",
      " 5   Brent                 316 non-null    object        \n",
      " 6   Bromley               316 non-null    object        \n",
      " 7   Camden                316 non-null    object        \n",
      " 8   Croydon               316 non-null    object        \n",
      " 9   Ealing                316 non-null    object        \n",
      " 10  Enfield               316 non-null    object        \n",
      " 11  Greenwich             316 non-null    object        \n",
      " 12  Hackney               316 non-null    object        \n",
      " 13  Hammersmith & Fulham  316 non-null    object        \n",
      " 14  Haringey              316 non-null    object        \n",
      " 15  Harrow                316 non-null    object        \n",
      " 16  Havering              316 non-null    object        \n",
      " 17  Hillingdon            316 non-null    object        \n",
      " 18  Hounslow              316 non-null    object        \n",
      " 19  Islington             316 non-null    object        \n",
      " 20  Kensington & Chelsea  316 non-null    object        \n",
      " 21  Kingston upon Thames  316 non-null    object        \n",
      " 22  Lambeth               316 non-null    object        \n",
      " 23  Lewisham              316 non-null    object        \n",
      " 24  Merton                316 non-null    object        \n",
      " 25  Newham                316 non-null    object        \n",
      " 26  Redbridge             316 non-null    object        \n",
      " 27  Richmond upon Thames  316 non-null    object        \n",
      " 28  Southwark             316 non-null    object        \n",
      " 29  Sutton                316 non-null    object        \n",
      " 30  Tower Hamlets         316 non-null    object        \n",
      " 31  Waltham Forest        316 non-null    object        \n",
      " 32  Wandsworth            316 non-null    object        \n",
      " 33  Westminster           316 non-null    object        \n",
      " 34  Unnamed: 34           0 non-null      float64       \n",
      " 35  Inner London          316 non-null    object        \n",
      " 36  Outer London          316 non-null    object        \n",
      " 37  Unnamed: 37           0 non-null      float64       \n",
      " 38  NORTH EAST            316 non-null    object        \n",
      " 39  NORTH WEST            316 non-null    object        \n",
      " 40  YORKS & THE HUMBER    316 non-null    object        \n",
      " 41  EAST MIDLANDS         316 non-null    object        \n",
      " 42  WEST MIDLANDS         316 non-null    object        \n",
      " 43  EAST OF ENGLAND       316 non-null    object        \n",
      " 44  LONDON                316 non-null    object        \n",
      " 45  SOUTH EAST            316 non-null    object        \n",
      " 46  SOUTH WEST            316 non-null    object        \n",
      " 47  Unnamed: 47           0 non-null      float64       \n",
      " 48  England               316 non-null    object        \n",
      "dtypes: datetime64[ns](1), float64(3), object(45)\n",
      "memory usage: 121.1+ KB\n",
      "None\n",
      "dataset header\n",
      "  Unnamed: 0 City of London Barking & Dagenham     Barnet     Bexley  \\\n",
      "0        NaT      E09000001          E09000002  E09000003  E09000004   \n",
      "1 1995-01-01          91449            50460.2    93284.5    64958.1   \n",
      "2 1995-02-01        82202.8            51085.8    93190.2    64787.9   \n",
      "3 1995-03-01        79120.7              51269    92247.5    64367.5   \n",
      "\n",
      "       Brent    Bromley     Camden    Croydon     Ealing  ... NORTH WEST  \\\n",
      "0  E09000005  E09000006  E09000007  E09000008  E09000009  ...  E12000002   \n",
      "1    71306.6    81671.5     120933    69158.2    79885.9  ...    43958.5   \n",
      "2    72022.3    81657.6     119509    68951.1    80897.1  ...    43925.4   \n",
      "3    72015.8    81449.3     120282    68712.4    81379.9  ...    44434.9   \n",
      "\n",
      "  YORKS & THE HUMBER EAST MIDLANDS WEST MIDLANDS EAST OF ENGLAND     LONDON  \\\n",
      "0          E12000003     E12000004     E12000005       E12000006  E12000007   \n",
      "1            44803.4       45544.5       48527.5         56701.6    74435.8   \n",
      "2            44528.8       46051.6       49341.3         56593.6    72777.9   \n",
      "3            45200.5       45383.8       49442.2         56171.2    73896.8   \n",
      "\n",
      "  SOUTH EAST SOUTH WEST Unnamed: 47    England  \n",
      "0  E12000008  E12000009         NaN  E92000001  \n",
      "1    64018.9    54705.2         NaN    53202.8  \n",
      "2      63715    54356.1         NaN    53096.2  \n",
      "3    64113.6    53583.1         NaN    53201.3  \n",
      "\n",
      "[4 rows x 49 columns]\n",
      "Null columns # 34, 37, and 47\n",
      "   Unnamed: 34  Unnamed: 37  Unnamed: 47\n",
      "1          NaN          NaN          NaN\n",
      "2          NaN          NaN          NaN\n",
      "3          NaN          NaN          NaN\n"
     ]
    }
   ],
   "source": [
    "# Initial glance at the dataset\n",
    "print(properties.info())\n",
    "print('dataset header')\n",
    "print(properties.head(4))\n",
    "print(\"Null columns # 34, 37, and 47\")\n",
    "print(properties.iloc[1:4, [34, 37, 47]])"
   ]
  },
  {
   "cell_type": "markdown",
   "metadata": {},
   "source": [
    "### Dataset description\n",
    "\n",
    "\n",
    "\n",
    "**Boroughs**\n",
    "We are only interested in the boroughs of london, of which there are 32 total\n",
    "This data set contains 49 columns:\n",
    "- 1x dates + 3x null = exclude 4 columns = 45 remaining, too many\n",
    "- 13 named columns are extra\n",
    "\n",
    "It appears that columns 2 - 33 are the London Boroughs (names found in the Wikipedia list)\n",
    "The remaining named columns correspond to aggregate measures for regions\n",
    "\n",
    "\n",
    "- First row appears to be some type of identification code. This could be removed and stored separately\n",
    "  - E09000002 to E09000033, E09000001 = City of London\n",
    "\n",
    "**Data types**\n",
    "Column 0 = datetime\n",
    "Other named columns = Object (text or mixed numeric and non-numeric values)\n",
    "\n",
    "\n",
    "\n",
    "\n",
    "\n"
   ]
  },
  {
   "cell_type": "markdown",
   "metadata": {
    "colab_type": "text",
    "id": "tE9Sqt9-oAta"
   },
   "source": [
    "**2.2. Cleaning the data**\n",
    "\n",
    "You might find you need to transpose your dataframe, check out what its row indexes are, and reset the index. You  also might find you need to assign the values of the first row to your column headings  . (Hint: recall the .columns feature of DataFrames, as well as the iloc[] method).\n",
    "\n",
    "Don't be afraid to use StackOverflow for help  with this."
   ]
  },
  {
   "cell_type": "code",
   "execution_count": 67,
   "metadata": {},
   "outputs": [
    {
     "name": "stdout",
     "output_type": "stream",
     "text": [
      "Index(['Unnamed: 0', 'City of London', 'Barking & Dagenham', 'Barnet',\n",
      "       'Bexley', 'Brent', 'Bromley', 'Camden', 'Croydon', 'Ealing', 'Enfield',\n",
      "       'Greenwich', 'Hackney', 'Hammersmith & Fulham', 'Haringey', 'Harrow',\n",
      "       'Havering', 'Hillingdon', 'Hounslow', 'Islington',\n",
      "       'Kensington & Chelsea', 'Kingston upon Thames', 'Lambeth', 'Lewisham',\n",
      "       'Merton', 'Newham', 'Redbridge', 'Richmond upon Thames', 'Southwark',\n",
      "       'Sutton', 'Tower Hamlets', 'Waltham Forest', 'Wandsworth',\n",
      "       'Westminster', 'Unnamed: 34', 'Inner London', 'Outer London',\n",
      "       'Unnamed: 37', 'NORTH EAST', 'NORTH WEST', 'YORKS & THE HUMBER',\n",
      "       'EAST MIDLANDS', 'WEST MIDLANDS', 'EAST OF ENGLAND', 'LONDON',\n",
      "       'SOUTH EAST', 'SOUTH WEST', 'Unnamed: 47', 'England'],\n",
      "      dtype='object')\n"
     ]
    }
   ],
   "source": [
    "\n",
    "# Check column names\n",
    "col_names = properties.columns\n",
    "\n",
    "print(col_names)"
   ]
  },
  {
   "cell_type": "code",
   "execution_count": 68,
   "metadata": {},
   "outputs": [
    {
     "name": "stdout",
     "output_type": "stream",
     "text": [
      "Index(['Month', 'City of London', 'Barking & Dagenham', 'Barnet', 'Bexley',\n",
      "       'Brent', 'Bromley', 'Camden', 'Croydon', 'Ealing', 'Enfield',\n",
      "       'Greenwich', 'Hackney', 'Hammersmith & Fulham', 'Haringey', 'Harrow',\n",
      "       'Havering', 'Hillingdon', 'Hounslow', 'Islington',\n",
      "       'Kensington & Chelsea', 'Kingston upon Thames', 'Lambeth', 'Lewisham',\n",
      "       'Merton', 'Newham', 'Redbridge', 'Richmond upon Thames', 'Southwark',\n",
      "       'Sutton', 'Tower Hamlets', 'Waltham Forest', 'Wandsworth',\n",
      "       'Westminster', 'Unnamed: 34', 'Inner London', 'Outer London',\n",
      "       'Unnamed: 37', 'NORTH EAST', 'NORTH WEST', 'YORKS & THE HUMBER',\n",
      "       'EAST MIDLANDS', 'WEST MIDLANDS', 'EAST OF ENGLAND', 'LONDON',\n",
      "       'SOUTH EAST', 'SOUTH WEST', 'Unnamed: 47', 'England'],\n",
      "      dtype='object')\n"
     ]
    }
   ],
   "source": [
    "# Rename column\n",
    "properties.rename(columns = {'Unnamed: 0': 'Month'}, inplace = True)\n",
    "\n",
    "# Check updated column names\n",
    "col_names = properties.columns\n",
    "print(col_names)"
   ]
  },
  {
   "cell_type": "code",
   "execution_count": 69,
   "metadata": {
    "colab": {},
    "colab_type": "code",
    "id": "cdAu1A3YoH_r"
   },
   "outputs": [],
   "source": [
    "# List of Boroughs, columns 2 - 33:\n",
    "Boroughs = properties.columns[2:34]\n",
    "\n",
    "# Non-boroughs, broken into categories\n",
    "London = ['City of London', 'Inner London', 'Outer London']\n",
    "Regions = ['NORTH EAST', 'NORTH WEST','YORKS & THE HUMBER', 'EAST MIDLANDS', 'WEST MIDLANDS',\n",
    "           'EAST OF ENGLAND', 'LONDON', 'SOUTH EAST', 'SOUTH WEST']\n",
    "England = ['England']\n"
   ]
  },
  {
   "cell_type": "code",
   "execution_count": 70,
   "metadata": {},
   "outputs": [
    {
     "data": {
      "text/plain": [
       "[0, 1, 2, 3, 4]"
      ]
     },
     "execution_count": 70,
     "metadata": {},
     "output_type": "execute_result"
    }
   ],
   "source": [
    "# Check row index\n",
    "top = properties.head()\n",
    "list(top.index)"
   ]
  },
  {
   "cell_type": "code",
   "execution_count": 71,
   "metadata": {},
   "outputs": [
    {
     "data": {
      "text/html": [
       "<div>\n",
       "<style scoped>\n",
       "    .dataframe tbody tr th:only-of-type {\n",
       "        vertical-align: middle;\n",
       "    }\n",
       "\n",
       "    .dataframe tbody tr th {\n",
       "        vertical-align: top;\n",
       "    }\n",
       "\n",
       "    .dataframe thead th {\n",
       "        text-align: right;\n",
       "    }\n",
       "</style>\n",
       "<table border=\"1\" class=\"dataframe\">\n",
       "  <thead>\n",
       "    <tr style=\"text-align: right;\">\n",
       "      <th></th>\n",
       "      <th>Month</th>\n",
       "      <th>City of London</th>\n",
       "      <th>Barking &amp; Dagenham</th>\n",
       "      <th>Barnet</th>\n",
       "      <th>Bexley</th>\n",
       "      <th>Brent</th>\n",
       "      <th>Bromley</th>\n",
       "      <th>Camden</th>\n",
       "      <th>Croydon</th>\n",
       "      <th>Ealing</th>\n",
       "      <th>...</th>\n",
       "      <th>NORTH WEST</th>\n",
       "      <th>YORKS &amp; THE HUMBER</th>\n",
       "      <th>EAST MIDLANDS</th>\n",
       "      <th>WEST MIDLANDS</th>\n",
       "      <th>EAST OF ENGLAND</th>\n",
       "      <th>LONDON</th>\n",
       "      <th>SOUTH EAST</th>\n",
       "      <th>SOUTH WEST</th>\n",
       "      <th>Unnamed: 47</th>\n",
       "      <th>England</th>\n",
       "    </tr>\n",
       "  </thead>\n",
       "  <tbody>\n",
       "    <tr>\n",
       "      <th>1</th>\n",
       "      <td>1995-01-01</td>\n",
       "      <td>91449</td>\n",
       "      <td>50460.2</td>\n",
       "      <td>93284.5</td>\n",
       "      <td>64958.1</td>\n",
       "      <td>71306.6</td>\n",
       "      <td>81671.5</td>\n",
       "      <td>120933</td>\n",
       "      <td>69158.2</td>\n",
       "      <td>79885.9</td>\n",
       "      <td>...</td>\n",
       "      <td>43958.5</td>\n",
       "      <td>44803.4</td>\n",
       "      <td>45544.5</td>\n",
       "      <td>48527.5</td>\n",
       "      <td>56701.6</td>\n",
       "      <td>74435.8</td>\n",
       "      <td>64018.9</td>\n",
       "      <td>54705.2</td>\n",
       "      <td>NaN</td>\n",
       "      <td>53202.8</td>\n",
       "    </tr>\n",
       "    <tr>\n",
       "      <th>2</th>\n",
       "      <td>1995-02-01</td>\n",
       "      <td>82202.8</td>\n",
       "      <td>51085.8</td>\n",
       "      <td>93190.2</td>\n",
       "      <td>64787.9</td>\n",
       "      <td>72022.3</td>\n",
       "      <td>81657.6</td>\n",
       "      <td>119509</td>\n",
       "      <td>68951.1</td>\n",
       "      <td>80897.1</td>\n",
       "      <td>...</td>\n",
       "      <td>43925.4</td>\n",
       "      <td>44528.8</td>\n",
       "      <td>46051.6</td>\n",
       "      <td>49341.3</td>\n",
       "      <td>56593.6</td>\n",
       "      <td>72777.9</td>\n",
       "      <td>63715</td>\n",
       "      <td>54356.1</td>\n",
       "      <td>NaN</td>\n",
       "      <td>53096.2</td>\n",
       "    </tr>\n",
       "    <tr>\n",
       "      <th>3</th>\n",
       "      <td>1995-03-01</td>\n",
       "      <td>79120.7</td>\n",
       "      <td>51269</td>\n",
       "      <td>92247.5</td>\n",
       "      <td>64367.5</td>\n",
       "      <td>72015.8</td>\n",
       "      <td>81449.3</td>\n",
       "      <td>120282</td>\n",
       "      <td>68712.4</td>\n",
       "      <td>81379.9</td>\n",
       "      <td>...</td>\n",
       "      <td>44434.9</td>\n",
       "      <td>45200.5</td>\n",
       "      <td>45383.8</td>\n",
       "      <td>49442.2</td>\n",
       "      <td>56171.2</td>\n",
       "      <td>73896.8</td>\n",
       "      <td>64113.6</td>\n",
       "      <td>53583.1</td>\n",
       "      <td>NaN</td>\n",
       "      <td>53201.3</td>\n",
       "    </tr>\n",
       "  </tbody>\n",
       "</table>\n",
       "<p>3 rows × 49 columns</p>\n",
       "</div>"
      ],
      "text/plain": [
       "       Month City of London Barking & Dagenham   Barnet   Bexley    Brent  \\\n",
       "1 1995-01-01          91449            50460.2  93284.5  64958.1  71306.6   \n",
       "2 1995-02-01        82202.8            51085.8  93190.2  64787.9  72022.3   \n",
       "3 1995-03-01        79120.7              51269  92247.5  64367.5  72015.8   \n",
       "\n",
       "   Bromley  Camden  Croydon   Ealing  ... NORTH WEST YORKS & THE HUMBER  \\\n",
       "1  81671.5  120933  69158.2  79885.9  ...    43958.5            44803.4   \n",
       "2  81657.6  119509  68951.1  80897.1  ...    43925.4            44528.8   \n",
       "3  81449.3  120282  68712.4  81379.9  ...    44434.9            45200.5   \n",
       "\n",
       "  EAST MIDLANDS WEST MIDLANDS EAST OF ENGLAND   LONDON SOUTH EAST SOUTH WEST  \\\n",
       "1       45544.5       48527.5         56701.6  74435.8    64018.9    54705.2   \n",
       "2       46051.6       49341.3         56593.6  72777.9      63715    54356.1   \n",
       "3       45383.8       49442.2         56171.2  73896.8    64113.6    53583.1   \n",
       "\n",
       "  Unnamed: 47  England  \n",
       "1         NaN  53202.8  \n",
       "2         NaN  53096.2  \n",
       "3         NaN  53201.3  \n",
       "\n",
       "[3 rows x 49 columns]"
      ]
     },
     "execution_count": 71,
     "metadata": {},
     "output_type": "execute_result"
    }
   ],
   "source": [
    "#save column ID and then drop ID row from dataframe\n",
    "col_id = properties.iloc[0, :]\n",
    "properties = properties.drop([0])\n",
    "properties.head(3)"
   ]
  },
  {
   "cell_type": "markdown",
   "metadata": {
    "colab_type": "text",
    "id": "o1uLbJAsoIjK"
   },
   "source": [
    "**2.3. Cleaning the data (part 2)**\n",
    "\n",
    "You might we have to **rename** a couple columns. How do you do this? The clue's pretty bold...\n"
   ]
  },
  {
   "cell_type": "markdown",
   "metadata": {
    "colab_type": "text",
    "id": "jy8BzXHmoWEw"
   },
   "source": [
    "**2.4.Transforming the data**\n",
    "\n",
    "Remember what Wes McKinney said about tidy data? \n",
    "\n",
    "You might need to **melt** your DataFrame here. "
   ]
  },
  {
   "cell_type": "code",
   "execution_count": 72,
   "metadata": {
    "colab": {},
    "colab_type": "code",
    "id": "S2wM0qLuo2Zt"
   },
   "outputs": [],
   "source": [
    "# It appears that this datasheet is already in Tidy format\n"
   ]
  },
  {
   "cell_type": "markdown",
   "metadata": {
    "colab_type": "text",
    "id": "7kIsgAo7o3mf"
   },
   "source": [
    "Remember to make sure your column data types are all correct. Average prices, for example, should be floating point numbers... "
   ]
  },
  {
   "cell_type": "code",
   "execution_count": 73,
   "metadata": {},
   "outputs": [
    {
     "name": "stdout",
     "output_type": "stream",
     "text": [
      "<class 'pandas.core.frame.DataFrame'>\n",
      "Int64Index: 315 entries, 1 to 315\n",
      "Data columns (total 49 columns):\n",
      " #   Column                Non-Null Count  Dtype         \n",
      "---  ------                --------------  -----         \n",
      " 0   Month                 315 non-null    datetime64[ns]\n",
      " 1   City of London        315 non-null    float64       \n",
      " 2   Barking & Dagenham    315 non-null    float64       \n",
      " 3   Barnet                315 non-null    float64       \n",
      " 4   Bexley                315 non-null    float64       \n",
      " 5   Brent                 315 non-null    float64       \n",
      " 6   Bromley               315 non-null    float64       \n",
      " 7   Camden                315 non-null    float64       \n",
      " 8   Croydon               315 non-null    float64       \n",
      " 9   Ealing                315 non-null    float64       \n",
      " 10  Enfield               315 non-null    float64       \n",
      " 11  Greenwich             315 non-null    float64       \n",
      " 12  Hackney               315 non-null    float64       \n",
      " 13  Hammersmith & Fulham  315 non-null    float64       \n",
      " 14  Haringey              315 non-null    float64       \n",
      " 15  Harrow                315 non-null    float64       \n",
      " 16  Havering              315 non-null    float64       \n",
      " 17  Hillingdon            315 non-null    float64       \n",
      " 18  Hounslow              315 non-null    float64       \n",
      " 19  Islington             315 non-null    float64       \n",
      " 20  Kensington & Chelsea  315 non-null    float64       \n",
      " 21  Kingston upon Thames  315 non-null    float64       \n",
      " 22  Lambeth               315 non-null    float64       \n",
      " 23  Lewisham              315 non-null    float64       \n",
      " 24  Merton                315 non-null    float64       \n",
      " 25  Newham                315 non-null    float64       \n",
      " 26  Redbridge             315 non-null    float64       \n",
      " 27  Richmond upon Thames  315 non-null    float64       \n",
      " 28  Southwark             315 non-null    float64       \n",
      " 29  Sutton                315 non-null    float64       \n",
      " 30  Tower Hamlets         315 non-null    float64       \n",
      " 31  Waltham Forest        315 non-null    float64       \n",
      " 32  Wandsworth            315 non-null    float64       \n",
      " 33  Westminster           315 non-null    float64       \n",
      " 34  Unnamed: 34           0 non-null      float64       \n",
      " 35  Inner London          315 non-null    float64       \n",
      " 36  Outer London          315 non-null    float64       \n",
      " 37  Unnamed: 37           0 non-null      float64       \n",
      " 38  NORTH EAST            315 non-null    float64       \n",
      " 39  NORTH WEST            315 non-null    float64       \n",
      " 40  YORKS & THE HUMBER    315 non-null    float64       \n",
      " 41  EAST MIDLANDS         315 non-null    float64       \n",
      " 42  WEST MIDLANDS         315 non-null    float64       \n",
      " 43  EAST OF ENGLAND       315 non-null    float64       \n",
      " 44  LONDON                315 non-null    float64       \n",
      " 45  SOUTH EAST            315 non-null    float64       \n",
      " 46  SOUTH WEST            315 non-null    float64       \n",
      " 47  Unnamed: 47           0 non-null      float64       \n",
      " 48  England               315 non-null    float64       \n",
      "dtypes: datetime64[ns](1), float64(48)\n",
      "memory usage: 123.0 KB\n"
     ]
    }
   ],
   "source": [
    "\n",
    "prices = col_names.delete(0) # create list of columns to convert\n",
    "properties[prices] = properties[prices].astype(float, errors= 'raise') #cgange to float\n",
    "\n",
    "properties.info() #check that type was changed"
   ]
  },
  {
   "cell_type": "markdown",
   "metadata": {
    "colab_type": "text",
    "id": "knLUXHLypOtw"
   },
   "source": [
    "**2.5. Cleaning the data (part 3)**\n",
    "\n",
    "Do we have an equal number of observations in the ID, Average Price, Month, and London Borough columns? Remember that there are only 32 London Boroughs. How many entries do you have in that column? \n",
    "\n",
    "Check out the contents of the London Borough column, and if you find null values, get rid of them however you see fit. \n"
   ]
  },
  {
   "cell_type": "code",
   "execution_count": 74,
   "metadata": {},
   "outputs": [
    {
     "data": {
      "text/plain": [
       "City of London          315\n",
       "Barking & Dagenham      315\n",
       "Barnet                  315\n",
       "Bexley                  315\n",
       "Brent                   315\n",
       "Bromley                 315\n",
       "Camden                  315\n",
       "Croydon                 315\n",
       "Ealing                  315\n",
       "Enfield                 315\n",
       "Greenwich               315\n",
       "Hackney                 315\n",
       "Hammersmith & Fulham    315\n",
       "Haringey                315\n",
       "Harrow                  315\n",
       "Havering                315\n",
       "Hillingdon              315\n",
       "Hounslow                315\n",
       "Islington               315\n",
       "Kensington & Chelsea    315\n",
       "Kingston upon Thames    315\n",
       "Lambeth                 315\n",
       "Lewisham                315\n",
       "Merton                  315\n",
       "Newham                  315\n",
       "Redbridge               315\n",
       "Richmond upon Thames    315\n",
       "Southwark               315\n",
       "Sutton                  315\n",
       "Tower Hamlets           315\n",
       "Waltham Forest          315\n",
       "Wandsworth              315\n",
       "Westminster             315\n",
       "Unnamed: 34             315\n",
       "Inner London            315\n",
       "Outer London            315\n",
       "Unnamed: 37             315\n",
       "NORTH EAST              315\n",
       "NORTH WEST              315\n",
       "YORKS & THE HUMBER      315\n",
       "EAST MIDLANDS           315\n",
       "WEST MIDLANDS           315\n",
       "EAST OF ENGLAND         315\n",
       "LONDON                  315\n",
       "SOUTH EAST              315\n",
       "SOUTH WEST              315\n",
       "Unnamed: 47             315\n",
       "England                 315\n",
       "dtype: int64"
      ]
     },
     "execution_count": 74,
     "metadata": {},
     "output_type": "execute_result"
    }
   ],
   "source": [
    "## Check for zeroes\n",
    "properties[prices].astype(bool).sum(axis=0) # count number of  non-zero values for each column"
   ]
  },
  {
   "cell_type": "code",
   "execution_count": 75,
   "metadata": {},
   "outputs": [
    {
     "name": "stdout",
     "output_type": "stream",
     "text": [
      "0\n"
     ]
    }
   ],
   "source": [
    "duplicates = properties[properties.duplicated()] # select duplicate rows\n",
    "print(len(duplicates)) # count number of duplicate rows\n"
   ]
  },
  {
   "cell_type": "markdown",
   "metadata": {},
   "source": [
    "**2.5 Data quality**\n",
    "\n",
    "**Data quality**\n",
    "- Null values: none\n",
    "- Non-zeroes: none\n",
    "- Duplicates: none"
   ]
  },
  {
   "cell_type": "markdown",
   "metadata": {
    "colab_type": "text",
    "id": "PGEx6mJsp6dG"
   },
   "source": [
    "**2.6. Visualizing the data**\n",
    "\n",
    "To visualize the data, why not subset on a particular London Borough? Maybe do a line plot of Month against Average Price?\n",
    "\n",
    "\n",
    "*Approach*\n",
    "\n",
    "Here I need to select one borough and plot the price values vs the 'Month' timeseries, do I have any examples of plotting timeseries?"
   ]
  },
  {
   "cell_type": "code",
   "execution_count": 76,
   "metadata": {
    "colab": {},
    "colab_type": "code",
    "id": "nAg5pT9cqHAR"
   },
   "outputs": [
    {
     "data": {
      "image/png": "[encoded data removed]",
      "text/plain": [
       "<Figure size 432x288 with 1 Axes>"
      ]
     },
     "metadata": {
      "needs_background": "light"
     },
     "output_type": "display_data"
    }
   ],
   "source": [
    "ax = plt.gca()\n",
    "properties.plot(kind = 'line', x='Month', y='Bexley', ax=ax)\n",
    "plt.show()"
   ]
  },
  {
   "cell_type": "markdown",
   "metadata": {
    "colab_type": "text",
    "id": "aWTPqSJeqHnC"
   },
   "source": [
    "To limit the number of data points you have, you might want to extract the year from every month value your *Month* column. \n",
    "\n",
    "To this end, you *could* apply a ***lambda function***. Your logic could work as follows:\n",
    "1. look through the `Month` column\n",
    "2. extract the year from each individual value in that column \n",
    "3. store that corresponding year as separate column. \n",
    "\n",
    "Whether you go ahead with this is up to you. Just so long as you answer our initial brief: which boroughs of London have seen the greatest house price increase, on average, over the past two decades? "
   ]
  },
  {
   "cell_type": "markdown",
   "metadata": {
    "colab_type": "text",
    "id": "2knuTxAEqoJ4"
   },
   "source": [
    "**3. Modeling**\n",
    "\n",
    "Consider creating a function that will calculate a ratio of house prices, comparing the price of a house in 2018 to the price in 1998.\n",
    "\n",
    "Consider calling this function create_price_ratio.\n",
    "\n",
    "You'd want this function to:\n",
    "1. Take a filter of dfg, specifically where this filter constrains the London_Borough, as an argument. For example, one admissible argument should be: dfg[dfg['London_Borough']=='Camden'].\n",
    "2. Get the Average Price for that Borough, for the years 1998 and 2018.\n",
    "4. Calculate the ratio of the Average Price for 1998 divided by the Average Price for 2018.\n",
    "5. Return that ratio.\n",
    "\n",
    "Once you've written this function, you ultimately want to use it to iterate through all the unique London_Boroughs and work out the ratio capturing the difference of house prices between 1998 and 2018.\n",
    "\n",
    "Bear in mind: you don't have to write a function like this if you don't want to. If you can solve the brief otherwise, then great! \n",
    "\n",
    "***Hint***: This section should test the skills you acquired in:\n",
    "- Python Data Science Toolbox - Part One, all modules"
   ]
  },
  {
   "cell_type": "code",
   "execution_count": 78,
   "metadata": {
    "colab": {},
    "colab_type": "code",
    "id": "e0DF92cyqnu8"
   },
   "outputs": [],
   "source": [
    "properties = properties.set_index('Month')"
   ]
  },
  {
   "cell_type": "code",
   "execution_count": 81,
   "metadata": {},
   "outputs": [
    {
     "data": {
      "text/html": [
       "<div>\n",
       "<style scoped>\n",
       "    .dataframe tbody tr th:only-of-type {\n",
       "        vertical-align: middle;\n",
       "    }\n",
       "\n",
       "    .dataframe tbody tr th {\n",
       "        vertical-align: top;\n",
       "    }\n",
       "\n",
       "    .dataframe thead th {\n",
       "        text-align: right;\n",
       "    }\n",
       "</style>\n",
       "<table border=\"1\" class=\"dataframe\">\n",
       "  <thead>\n",
       "    <tr style=\"text-align: right;\">\n",
       "      <th></th>\n",
       "      <th>City of London</th>\n",
       "      <th>Barking &amp; Dagenham</th>\n",
       "      <th>Barnet</th>\n",
       "      <th>Bexley</th>\n",
       "      <th>Brent</th>\n",
       "      <th>Bromley</th>\n",
       "      <th>Camden</th>\n",
       "      <th>Croydon</th>\n",
       "      <th>Ealing</th>\n",
       "      <th>Enfield</th>\n",
       "      <th>...</th>\n",
       "      <th>NORTH WEST</th>\n",
       "      <th>YORKS &amp; THE HUMBER</th>\n",
       "      <th>EAST MIDLANDS</th>\n",
       "      <th>WEST MIDLANDS</th>\n",
       "      <th>EAST OF ENGLAND</th>\n",
       "      <th>LONDON</th>\n",
       "      <th>SOUTH EAST</th>\n",
       "      <th>SOUTH WEST</th>\n",
       "      <th>Unnamed: 47</th>\n",
       "      <th>England</th>\n",
       "    </tr>\n",
       "    <tr>\n",
       "      <th>Month</th>\n",
       "      <th></th>\n",
       "      <th></th>\n",
       "      <th></th>\n",
       "      <th></th>\n",
       "      <th></th>\n",
       "      <th></th>\n",
       "      <th></th>\n",
       "      <th></th>\n",
       "      <th></th>\n",
       "      <th></th>\n",
       "      <th></th>\n",
       "      <th></th>\n",
       "      <th></th>\n",
       "      <th></th>\n",
       "      <th></th>\n",
       "      <th></th>\n",
       "      <th></th>\n",
       "      <th></th>\n",
       "      <th></th>\n",
       "      <th></th>\n",
       "      <th></th>\n",
       "    </tr>\n",
       "  </thead>\n",
       "  <tbody>\n",
       "    <tr>\n",
       "      <th>1995-12-31</th>\n",
       "      <td>99085.008156</td>\n",
       "      <td>51817.969390</td>\n",
       "      <td>91792.537433</td>\n",
       "      <td>64291.532845</td>\n",
       "      <td>73029.841840</td>\n",
       "      <td>81967.316732</td>\n",
       "      <td>120367.431783</td>\n",
       "      <td>68923.340845</td>\n",
       "      <td>81218.674792</td>\n",
       "      <td>71984.234888</td>\n",
       "      <td>...</td>\n",
       "      <td>43927.803593</td>\n",
       "      <td>44899.116937</td>\n",
       "      <td>45680.389202</td>\n",
       "      <td>49428.563735</td>\n",
       "      <td>56306.582729</td>\n",
       "      <td>74721.326875</td>\n",
       "      <td>64478.640237</td>\n",
       "      <td>54214.164004</td>\n",
       "      <td>NaN</td>\n",
       "      <td>53322.378079</td>\n",
       "    </tr>\n",
       "    <tr>\n",
       "      <th>1996-12-31</th>\n",
       "      <td>105651.057557</td>\n",
       "      <td>51718.192690</td>\n",
       "      <td>94000.445448</td>\n",
       "      <td>65490.417234</td>\n",
       "      <td>75235.918367</td>\n",
       "      <td>83547.483632</td>\n",
       "      <td>133810.487933</td>\n",
       "      <td>69713.920086</td>\n",
       "      <td>83389.914491</td>\n",
       "      <td>74062.012957</td>\n",
       "      <td>...</td>\n",
       "      <td>43928.194567</td>\n",
       "      <td>44820.687837</td>\n",
       "      <td>46160.585717</td>\n",
       "      <td>50047.284362</td>\n",
       "      <td>56805.140340</td>\n",
       "      <td>78166.224347</td>\n",
       "      <td>66107.724660</td>\n",
       "      <td>55374.124032</td>\n",
       "      <td>NaN</td>\n",
       "      <td>54151.330987</td>\n",
       "    </tr>\n",
       "    <tr>\n",
       "      <th>1997-12-31</th>\n",
       "      <td>117113.442375</td>\n",
       "      <td>55974.262309</td>\n",
       "      <td>106883.185546</td>\n",
       "      <td>70789.406603</td>\n",
       "      <td>86749.070663</td>\n",
       "      <td>94224.688035</td>\n",
       "      <td>150142.901208</td>\n",
       "      <td>77674.269967</td>\n",
       "      <td>97805.824543</td>\n",
       "      <td>83609.439219</td>\n",
       "      <td>...</td>\n",
       "      <td>45874.922805</td>\n",
       "      <td>46323.809540</td>\n",
       "      <td>49253.221187</td>\n",
       "      <td>53634.005468</td>\n",
       "      <td>62930.892406</td>\n",
       "      <td>89943.920103</td>\n",
       "      <td>74944.889945</td>\n",
       "      <td>60990.002655</td>\n",
       "      <td>NaN</td>\n",
       "      <td>59160.746932</td>\n",
       "    </tr>\n",
       "    <tr>\n",
       "      <th>1998-12-31</th>\n",
       "      <td>148031.894542</td>\n",
       "      <td>60285.821083</td>\n",
       "      <td>122359.468033</td>\n",
       "      <td>80632.020822</td>\n",
       "      <td>100692.590417</td>\n",
       "      <td>108286.520467</td>\n",
       "      <td>170688.973933</td>\n",
       "      <td>88143.228830</td>\n",
       "      <td>111343.154650</td>\n",
       "      <td>93030.224322</td>\n",
       "      <td>...</td>\n",
       "      <td>47669.560677</td>\n",
       "      <td>47655.883971</td>\n",
       "      <td>52216.834470</td>\n",
       "      <td>56912.852352</td>\n",
       "      <td>69729.638231</td>\n",
       "      <td>102110.611596</td>\n",
       "      <td>84477.468631</td>\n",
       "      <td>67022.959999</td>\n",
       "      <td>NaN</td>\n",
       "      <td>64301.680243</td>\n",
       "    </tr>\n",
       "    <tr>\n",
       "      <th>1999-12-31</th>\n",
       "      <td>171300.061875</td>\n",
       "      <td>65320.934441</td>\n",
       "      <td>136004.512067</td>\n",
       "      <td>86777.715903</td>\n",
       "      <td>112157.469808</td>\n",
       "      <td>120874.179567</td>\n",
       "      <td>191090.697392</td>\n",
       "      <td>97173.322854</td>\n",
       "      <td>126278.342342</td>\n",
       "      <td>101986.993642</td>\n",
       "      <td>...</td>\n",
       "      <td>50144.896779</td>\n",
       "      <td>49489.715628</td>\n",
       "      <td>55833.838828</td>\n",
       "      <td>60953.520489</td>\n",
       "      <td>76768.480736</td>\n",
       "      <td>115686.259917</td>\n",
       "      <td>94200.669860</td>\n",
       "      <td>74706.593711</td>\n",
       "      <td>NaN</td>\n",
       "      <td>70070.810055</td>\n",
       "    </tr>\n",
       "  </tbody>\n",
       "</table>\n",
       "<p>5 rows × 48 columns</p>\n",
       "</div>"
      ],
      "text/plain": [
       "            City of London  Barking & Dagenham         Barnet        Bexley  \\\n",
       "Month                                                                         \n",
       "1995-12-31    99085.008156        51817.969390   91792.537433  64291.532845   \n",
       "1996-12-31   105651.057557        51718.192690   94000.445448  65490.417234   \n",
       "1997-12-31   117113.442375        55974.262309  106883.185546  70789.406603   \n",
       "1998-12-31   148031.894542        60285.821083  122359.468033  80632.020822   \n",
       "1999-12-31   171300.061875        65320.934441  136004.512067  86777.715903   \n",
       "\n",
       "                    Brent        Bromley         Camden       Croydon  \\\n",
       "Month                                                                   \n",
       "1995-12-31   73029.841840   81967.316732  120367.431783  68923.340845   \n",
       "1996-12-31   75235.918367   83547.483632  133810.487933  69713.920086   \n",
       "1997-12-31   86749.070663   94224.688035  150142.901208  77674.269967   \n",
       "1998-12-31  100692.590417  108286.520467  170688.973933  88143.228830   \n",
       "1999-12-31  112157.469808  120874.179567  191090.697392  97173.322854   \n",
       "\n",
       "                   Ealing        Enfield  ...    NORTH WEST  \\\n",
       "Month                                     ...                 \n",
       "1995-12-31   81218.674792   71984.234888  ...  43927.803593   \n",
       "1996-12-31   83389.914491   74062.012957  ...  43928.194567   \n",
       "1997-12-31   97805.824543   83609.439219  ...  45874.922805   \n",
       "1998-12-31  111343.154650   93030.224322  ...  47669.560677   \n",
       "1999-12-31  126278.342342  101986.993642  ...  50144.896779   \n",
       "\n",
       "            YORKS & THE HUMBER  EAST MIDLANDS  WEST MIDLANDS  EAST OF ENGLAND  \\\n",
       "Month                                                                           \n",
       "1995-12-31        44899.116937   45680.389202   49428.563735     56306.582729   \n",
       "1996-12-31        44820.687837   46160.585717   50047.284362     56805.140340   \n",
       "1997-12-31        46323.809540   49253.221187   53634.005468     62930.892406   \n",
       "1998-12-31        47655.883971   52216.834470   56912.852352     69729.638231   \n",
       "1999-12-31        49489.715628   55833.838828   60953.520489     76768.480736   \n",
       "\n",
       "                   LONDON    SOUTH EAST    SOUTH WEST  Unnamed: 47  \\\n",
       "Month                                                                \n",
       "1995-12-31   74721.326875  64478.640237  54214.164004          NaN   \n",
       "1996-12-31   78166.224347  66107.724660  55374.124032          NaN   \n",
       "1997-12-31   89943.920103  74944.889945  60990.002655          NaN   \n",
       "1998-12-31  102110.611596  84477.468631  67022.959999          NaN   \n",
       "1999-12-31  115686.259917  94200.669860  74706.593711          NaN   \n",
       "\n",
       "                 England  \n",
       "Month                     \n",
       "1995-12-31  53322.378079  \n",
       "1996-12-31  54151.330987  \n",
       "1997-12-31  59160.746932  \n",
       "1998-12-31  64301.680243  \n",
       "1999-12-31  70070.810055  \n",
       "\n",
       "[5 rows x 48 columns]"
      ]
     },
     "execution_count": 81,
     "metadata": {},
     "output_type": "execute_result"
    }
   ],
   "source": [
    "annual_mean = properties[prices].resample('A').mean()\n",
    "\n",
    "annual_mean.head()"
   ]
  },
  {
   "cell_type": "code",
   "execution_count": 58,
   "metadata": {
    "colab": {},
    "colab_type": "code",
    "id": "cKTyr437UgDa"
   },
   "outputs": [],
   "source": [
    "# Check difference between average price for 2000 and 2020\n",
    "\n",
    "annual_mean.loc[['2000-12-31']]"
   ]
  },
  {
   "cell_type": "code",
   "execution_count": 60,
   "metadata": {},
   "outputs": [
    {
     "name": "stdout",
     "output_type": "stream",
     "text": [
      "<class 'pandas.core.frame.DataFrame'>\n",
      "DatetimeIndex: 314 entries, 1995-01-31 to 2021-02-28\n",
      "Freq: M\n",
      "Data columns (total 48 columns):\n",
      " #   Column                Non-Null Count  Dtype  \n",
      "---  ------                --------------  -----  \n",
      " 0   City of London        0 non-null      float64\n",
      " 1   Barking & Dagenham    0 non-null      float64\n",
      " 2   Barnet                0 non-null      float64\n",
      " 3   Bexley                0 non-null      float64\n",
      " 4   Brent                 0 non-null      float64\n",
      " 5   Bromley               0 non-null      float64\n",
      " 6   Camden                0 non-null      float64\n",
      " 7   Croydon               0 non-null      float64\n",
      " 8   Ealing                0 non-null      float64\n",
      " 9   Enfield               0 non-null      float64\n",
      " 10  Greenwich             0 non-null      float64\n",
      " 11  Hackney               0 non-null      float64\n",
      " 12  Hammersmith & Fulham  0 non-null      float64\n",
      " 13  Haringey              0 non-null      float64\n",
      " 14  Harrow                0 non-null      float64\n",
      " 15  Havering              0 non-null      float64\n",
      " 16  Hillingdon            0 non-null      float64\n",
      " 17  Hounslow              0 non-null      float64\n",
      " 18  Islington             0 non-null      float64\n",
      " 19  Kensington & Chelsea  0 non-null      float64\n",
      " 20  Kingston upon Thames  0 non-null      float64\n",
      " 21  Lambeth               0 non-null      float64\n",
      " 22  Lewisham              0 non-null      float64\n",
      " 23  Merton                0 non-null      float64\n",
      " 24  Newham                0 non-null      float64\n",
      " 25  Redbridge             0 non-null      float64\n",
      " 26  Richmond upon Thames  0 non-null      float64\n",
      " 27  Southwark             0 non-null      float64\n",
      " 28  Sutton                0 non-null      float64\n",
      " 29  Tower Hamlets         0 non-null      float64\n",
      " 30  Waltham Forest        0 non-null      float64\n",
      " 31  Wandsworth            0 non-null      float64\n",
      " 32  Westminster           0 non-null      float64\n",
      " 33  Unnamed: 34           0 non-null      float64\n",
      " 34  Inner London          0 non-null      float64\n",
      " 35  Outer London          0 non-null      float64\n",
      " 36  Unnamed: 37           0 non-null      float64\n",
      " 37  NORTH EAST            0 non-null      float64\n",
      " 38  NORTH WEST            0 non-null      float64\n",
      " 39  YORKS & THE HUMBER    0 non-null      float64\n",
      " 40  EAST MIDLANDS         0 non-null      float64\n",
      " 41  WEST MIDLANDS         0 non-null      float64\n",
      " 42  EAST OF ENGLAND       0 non-null      float64\n",
      " 43  LONDON                0 non-null      float64\n",
      " 44  SOUTH EAST            0 non-null      float64\n",
      " 45  SOUTH WEST            0 non-null      float64\n",
      " 46  Unnamed: 47           0 non-null      float64\n",
      " 47  England               0 non-null      float64\n",
      "dtypes: float64(48)\n",
      "memory usage: 120.2 KB\n"
     ]
    }
   ],
   "source": [
    "properties.info()"
   ]
  },
  {
   "cell_type": "code",
   "execution_count": 159,
   "metadata": {},
   "outputs": [
    {
     "data": {
      "text/plain": [
       "[Timestamp('1995-12-31 00:00:00', freq='A-DEC'),\n",
       " Timestamp('1996-12-31 00:00:00', freq='A-DEC'),\n",
       " Timestamp('1997-12-31 00:00:00', freq='A-DEC'),\n",
       " Timestamp('1998-12-31 00:00:00', freq='A-DEC'),\n",
       " Timestamp('1999-12-31 00:00:00', freq='A-DEC')]"
      ]
     },
     "execution_count": 159,
     "metadata": {},
     "output_type": "execute_result"
    }
   ],
   "source": [
    "annual_mean = properties[Boroughs].resample('A').mean()\n",
    "\n",
    "# Check row index\n",
    "top_mean = annual_mean.head()\n",
    "list(top_mean.index)\n"
   ]
  },
  {
   "cell_type": "code",
   "execution_count": 160,
   "metadata": {},
   "outputs": [],
   "source": [
    "#Select years of interest, using 2020 as the most recently completed year\n",
    "y2000 = annual_mean.loc['2000']\n",
    "y2020 = annual_mean.loc['2020']"
   ]
  },
  {
   "cell_type": "code",
   "execution_count": 161,
   "metadata": {},
   "outputs": [],
   "source": [
    "y2000 = y2000.reset_index(drop=True)\n",
    "y2020 = y2020.reset_index(drop=True)\n",
    "\n",
    "change2020 = y2020-y2000\n",
    "\n"
   ]
  },
  {
   "cell_type": "code",
   "execution_count": 162,
   "metadata": {},
   "outputs": [
    {
     "data": {
      "text/plain": [
       "0    Kensington & Chelsea\n",
       "dtype: object"
      ]
     },
     "execution_count": 162,
     "metadata": {},
     "output_type": "execute_result"
    }
   ],
   "source": [
    "maxchange = change2020.idxmax(axis=1)\n",
    "maxchange"
   ]
  },
  {
   "cell_type": "code",
   "execution_count": 163,
   "metadata": {},
   "outputs": [
    {
     "data": {
      "text/html": [
       "<div>\n",
       "<style scoped>\n",
       "    .dataframe tbody tr th:only-of-type {\n",
       "        vertical-align: middle;\n",
       "    }\n",
       "\n",
       "    .dataframe tbody tr th {\n",
       "        vertical-align: top;\n",
       "    }\n",
       "\n",
       "    .dataframe thead th {\n",
       "        text-align: right;\n",
       "    }\n",
       "</style>\n",
       "<table border=\"1\" class=\"dataframe\">\n",
       "  <thead>\n",
       "    <tr style=\"text-align: right;\">\n",
       "      <th></th>\n",
       "      <th>Borough</th>\n",
       "      <th>Price change</th>\n",
       "    </tr>\n",
       "  </thead>\n",
       "  <tbody>\n",
       "    <tr>\n",
       "      <th>0</th>\n",
       "      <td>Barking &amp; Dagenham</td>\n",
       "      <td>224649.638385</td>\n",
       "    </tr>\n",
       "    <tr>\n",
       "      <th>1</th>\n",
       "      <td>Barnet</td>\n",
       "      <td>358007.196058</td>\n",
       "    </tr>\n",
       "    <tr>\n",
       "      <th>2</th>\n",
       "      <td>Bexley</td>\n",
       "      <td>240055.382649</td>\n",
       "    </tr>\n",
       "    <tr>\n",
       "      <th>3</th>\n",
       "      <td>Brent</td>\n",
       "      <td>344751.009125</td>\n",
       "    </tr>\n",
       "    <tr>\n",
       "      <th>4</th>\n",
       "      <td>Bromley</td>\n",
       "      <td>287282.528592</td>\n",
       "    </tr>\n",
       "  </tbody>\n",
       "</table>\n",
       "</div>"
      ],
      "text/plain": [
       "              Borough   Price change\n",
       "0  Barking & Dagenham  224649.638385\n",
       "1              Barnet  358007.196058\n",
       "2              Bexley  240055.382649\n",
       "3               Brent  344751.009125\n",
       "4             Bromley  287282.528592"
      ]
     },
     "execution_count": 163,
     "metadata": {},
     "output_type": "execute_result"
    }
   ],
   "source": [
    "tp2020= change2020.transpose()\n",
    "tp2020.reset_index(inplace=True)\n",
    "\n",
    "tp2020.columns = ['Borough', 'Price change']\n",
    "\n",
    "tp2020.head()"
   ]
  },
  {
   "cell_type": "code",
   "execution_count": 164,
   "metadata": {},
   "outputs": [
    {
     "name": "stdout",
     "output_type": "stream",
     "text": [
      "Greatest increase in price\n",
      "                 Borough   Price change\n",
      "18  Kensington & Chelsea  949969.382983\n",
      "31           Westminster  699630.055383\n",
      "5                 Camden  584129.596175\n",
      "11  Hammersmith & Fulham  480686.915450\n",
      "17             Islington  470294.050875\n"
     ]
    }
   ],
   "source": [
    "tp2020 = tp2020.sort_values(by = 'Price change', ascending=False)\n",
    "print('Greatest increase in price')\n",
    "print(tp2020.head())\n",
    "\n",
    "\n"
   ]
  },
  {
   "cell_type": "code",
   "execution_count": 165,
   "metadata": {},
   "outputs": [
    {
     "name": "stdout",
     "output_type": "stream",
     "text": [
      "Least increase in price\n",
      "               Borough   Price change\n",
      "14            Havering  260958.486600\n",
      "6              Croydon  256348.267117\n",
      "27              Sutton  252503.623650\n",
      "2               Bexley  240055.382649\n",
      "0   Barking & Dagenham  224649.638385\n"
     ]
    }
   ],
   "source": [
    "print('Least increase in price')\n",
    "print(tp2020.tail())"
   ]
  },
  {
   "cell_type": "code",
   "execution_count": 171,
   "metadata": {},
   "outputs": [
    {
     "data": {
      "image/png": "[encoded data removed]",
      "text/plain": [
       "<Figure size 1440x720 with 1 Axes>"
      ]
     },
     "metadata": {
      "needs_background": "light"
     },
     "output_type": "display_data"
    }
   ],
   "source": [
    "plt.rcParams[\"figure.figsize\"] = (20,10)\n",
    "tp2020.plot(kind = 'bar', x='Borough', y='Price change', fontsize=16, rot= 75)\n",
    "plt.show()\n",
    "\n"
   ]
  },
  {
   "cell_type": "markdown",
   "metadata": {
    "colab_type": "text",
    "id": "NzYUI7FxJpgv"
   },
   "source": [
    "### 4. Conclusion\n",
    "What can you conclude? Type out your conclusion below. \n",
    "\n",
    "Look back at your notebook. Think about how you might summarize what you have done, and prepare a quick presentation on it to your mentor at your next meeting. \n",
    "\n",
    "We hope you enjoyed this practical project. It should have consolidated your data hygiene and pandas skills by looking at a real-world problem involving just the kind of dataset you might encounter as a budding data scientist. Congratulations, and looking forward to seeing you at the next step in the course! "
   ]
  },
  {
   "cell_type": "markdown",
   "metadata": {},
   "source": [
    "**Conclusion**\n",
    "\n",
    "When home prices are averaged for each year, it appears that Kensington & Chelsea show the greatest net increase from the years 2000 to 2020.\n",
    "\n",
    "K & C show a price change of ~ 950k, whereas the next greatest increases were Westminster and Camden (700k and 554k respectively.\n",
    "\n",
    "All boroughs showed some increase in prices, the smallest increases ranged from 225k - 261k.\n",
    "\n",
    "It is possible that some Boroughs may have experienced a greater overall swing in prices in time period of 2000 - 2020, however we are only interested in the greatest average increase here.\n",
    "\n",
    "\n"
   ]
  }
 ],
 "metadata": {
  "colab": {
   "collapsed_sections": [],
   "name": "Springboard Data Science Career Track Unit 4 Challenge - Tier 3 Complete .ipynb",
   "provenance": []
  },
  "kernelspec": {
   "display_name": "Python 3",
   "language": "python",
   "name": "python3"
  },
  "language_info": {
   "codemirror_mode": {
    "name": "ipython",
    "version": 3
   },
   "file_extension": ".py",
   "mimetype": "text/x-python",
   "name": "python",
   "nbconvert_exporter": "python",
   "pygments_lexer": "ipython3",
   "version": "3.8.3"
  }
 },
 "nbformat": 4,
 "nbformat_minor": 1
}
